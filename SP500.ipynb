{
 "cells": [
  {
   "cell_type": "code",
   "execution_count": 26,
   "metadata": {},
   "outputs": [],
   "source": [
    "# Before starting, execute those commands:\n",
    "# pip install pandas_datareader\n",
    "# pip install arch\n",
    "# pip install autograd"
   ]
  },
  {
   "cell_type": "code",
   "execution_count": 4,
   "metadata": {},
   "outputs": [],
   "source": [
    "import bs4 as bs\n",
    "import datetime as dt\n",
    "import matplotlib.pyplot as plt\n",
    "from matplotlib import style\n",
    "import numpy as np\n",
    "import os\n",
    "import pandas as pd\n",
    "import pandas_datareader.data as web\n",
    "import pickle\n",
    "import requests\n",
    "from scipy.stats import kurtosis\n",
    "from scipy.stats import skew\n",
    "from statsmodels.tsa.arima_model import ARIMA\n",
    "import arch\n",
    "\n",
    "style.use('ggplot')"
   ]
  },
  {
   "cell_type": "code",
   "execution_count": 5,
   "metadata": {},
   "outputs": [],
   "source": [
    "def stds(array, df_corr, df):\n",
    "    for i in df_corr.index:\n",
    "        array.append(df[i].std())\n",
    "    return array\n",
    "\n",
    "def means(array, df_corr, df):\n",
    "    for i in df_corr.index:\n",
    "        array.append(df[i].mean())\n",
    "    return array"
   ]
  },
  {
   "cell_type": "code",
   "execution_count": 6,
   "metadata": {
    "scrolled": true
   },
   "outputs": [],
   "source": [
    "# These functions for importing S&P500 indexes used from Youtube tutorial by sentdex: \n",
    "# https://www.youtube.com/watch?v=2BrpKpWwT2A&list=PLQVvvaa0QuDcOdF96TBtRtuQksErCEBYZ\n",
    "\n",
    "def save_sp500_tickers():\n",
    "    resp = requests.get('https://en.wikipedia.org/wiki/List_of_S%26P_500_companies')\n",
    "    soup = bs.BeautifulSoup(resp.text, 'lxml')\n",
    "    table = soup.find('table', {'id':'constituents'})\n",
    "    tickers = []\n",
    "    for row in table.findAll('tr')[1:]:\n",
    "        #ticker = row.find('td').text\n",
    "        #tickers.append(ticker)\n",
    "        ticker = row.find_all('td')[0].text.replace('\\n','')\n",
    "        if \".\" in ticker:\n",
    "            ticker = ticker.replace('.','-')\n",
    "            print('ticker replaced to', ticker) \n",
    "        tickers.append(ticker)\n",
    "        \n",
    "    with open(\"sp500tickers.pickle\", \"wb\") as f:\n",
    "        pickle.dump(tickers, f)\n",
    "\n",
    "    return tickers\n",
    "\n",
    "save_sp500_tickers()\n",
    "\n",
    "def get_data_from_yahoo(reload_sp500=False):\n",
    "    if reload_sp500:\n",
    "        tickers = save_sp500_tickers()\n",
    "    else:\n",
    "        with open(\"sp500tickers.pickle\", \"rb\") as f:\n",
    "            tickers = pickle.load(f)\n",
    "    \n",
    "    if not os.path.exists('stock_dfs'):\n",
    "        os.makedirs('stock_dfs')\n",
    "        \n",
    "    start = dt.datetime(2000,1,1)\n",
    "    end = dt.datetime(2020,10,28)\n",
    "    \n",
    "    for ticker in tickers:\n",
    "        if not os.path.exists('stock_dfs/{}.csv'.format(ticker)):\n",
    "            df = web.DataReader(ticker, 'yahoo', start, end)\n",
    "            df.to_csv('stock_dfs/{}.csv'.format(ticker))\n",
    "        else:\n",
    "            print('Already have {}'.format(ticker))\n",
    "\n",
    "            \n",
    "get_data_from_yahoo()\n",
    "\n",
    "def compile_data():\n",
    "    with open(\"sp500tickers.pickle\",\"rb\") as f:\n",
    "        tickers = pickle.load(f)\n",
    "        \n",
    "    main_df = pd.DataFrame()\n",
    "    \n",
    "    for count, ticker in enumerate(tickers):\n",
    "        df = pd.read_csv('stock_dfs/{}.csv'.format(ticker.replace('.','-')))\n",
    "        df.set_index('Date', inplace=True)\n",
    "        \n",
    "        df.rename(columns = {'Adj Close':ticker}, inplace=True)\n",
    "        # palikti high low\n",
    "        df.drop(['Open', 'High', 'Low', 'Close', 'Volume'], 1, inplace=True)\n",
    "        \n",
    "        if main_df.empty:\n",
    "            main_df = df\n",
    "        else:\n",
    "            main_df = main_df.join(df, how='outer')\n",
    "            \n",
    "        if count % 10 == 0:\n",
    "            print(count)\n",
    "    \n",
    "    #print(main_df.head())\n",
    "    main_df.to_csv('sp500_joined_closes.csv')\n",
    "    \n",
    "compile_data()\n",
    "   \n",
    "def visualize_data():\n",
    "    df = pd.read_csv('sp500_joined_closes.csv')\n",
    "    #df['AAPL'].plot()\n",
    "    #plt.show()\n",
    "    df_corr = df.corr()\n",
    "    \n",
    "    #print(df_corr)\n",
    "    \n",
    "    data = df_corr.values\n",
    "    fig = plt.figure()\n",
    "    ax = fig.add_subplot(1,1,1)\n",
    "    \n",
    "    heatmap = ax.pcolor(data, cmap=plt.cm.RdYlGn)\n",
    "    fig.colorbar(heatmap)\n",
    "    ax.set_xticks(np.arange(data.shape[0]) + 0.5, minor=False)\n",
    "    ax.set_yticks(np.arange(data.shape[1]) + 0.5, minor=False)\n",
    "    ax.invert_yaxis()\n",
    "    ax.xaxis.tick_top()\n",
    "    \n",
    "    column_labels = df_corr.columns\n",
    "    row_labels = df_corr.index\n",
    "    \n",
    "    ax.set_xticklabels(column_labels)\n",
    "    ax.set_yticklabels(row_labels)\n",
    "    plt.xticks(rotation=90)\n",
    "    heatmap.set_clim(-1, 1)\n",
    "    plt.tight_layout()\n",
    "    plt.show()\n",
    "    \n",
    "#visualize_data()"
   ]
  },
  {
   "cell_type": "code",
   "execution_count": 148,
   "metadata": {},
   "outputs": [],
   "source": [
    "start = '2019-05-01'\n",
    "end = '2019-08-09'\n",
    "\n",
    "sp500 = web.DataReader('^GSPC', 'yahoo', start, end)\n",
    "dataF = pd.read_csv('sp500_joined_closes.csv')\n",
    "dataF = dataF.set_index(dataF['Date'])\n",
    "dataF = dataF.drop(columns='Date')\n",
    "dataF = dataF[start:end]\n",
    "dataF = dataF.dropna(1)\n",
    "# transform prices to returns\n",
    "dataF = np.log(dataF / dataF.shift(1))\n",
    "# removes the first day\n",
    "dataF = dataF.dropna()\n",
    "\n",
    "# change index to 0, 1, ...\n",
    "dataF = dataF.reset_index()\n",
    "dataF = dataF.drop(columns='Date')\n",
    "\n",
    "# adding sp500 returns to the dataframe\n",
    "dataF['SP500'] = np.log(sp500['Adj Close'] / sp500['Adj Close'].shift(1))[1:].values\n",
    "\n",
    "# Values closest to 0 (least correlated with SP500) pass the filter\n",
    "sp500_corr = dataF.corr()['SP500']\n",
    "sp500_leastcorr = sp500_corr.where((sp500_corr > -0.11) & (sp500_corr < 0.11)).dropna()\n",
    "\n",
    "# Dataframe with one column:\n",
    "# Least correlated stocks' returns correlation with sp500 returns\n",
    "leastcorr_df = pd.DataFrame(sp500_leastcorr)\n",
    "\n",
    "leastcorr_df['stds'] = stds([], sp500_leastcorr, dataF)\n",
    "leastcorr_df['cov'] = leastcorr_df['SP500'] / (dataF['SP500'].std() * leastcorr_df['stds'])\n",
    "leastcorr_df['beta'] = leastcorr_df['cov'] / dataF['SP500'].var()\n",
    "leastcorr_df['means'] = means([], sp500_leastcorr, dataF)\n",
    "#leastcorr_df['kurtosis'] = kurtosis()\n",
    "\n",
    "lc_stocks = web.DataReader(sp500_leastcorr.index.values, 'yahoo', start, end)\n",
    "\n",
    "# Least correlated stocks' log(high) - log(low)\n",
    "lc_volatility = pd.DataFrame(np.log(lc_stocks['High']) - np.log(lc_stocks['Low']))\n",
    "lc_volatility['SP500'] = (np.log(sp500['High']) - np.log(sp500['Low'])).values\n",
    "\n",
    "\n",
    "# Out of those chosen ones, least correlated stocks with each other\n",
    "lc_returns_corr = dataF[sp500_leastcorr.index.values].corr()\n",
    "lc_returns_corr = lc_returns_corr.where((lc_returns_corr > -0.3) & (lc_returns_corr < 0.3))\n",
    "\n",
    "# thresh - required not NaN values\n",
    "# Out of chosen stocks, \n",
    "# we determine which ones has the most not NaN (about 90% of not NaN of the size of previous filtered stocks) correlations with others\n",
    "most_corr = lc_returns_corr.dropna(thresh=round(lc_returns_corr.shape[0] * 0.9))\n",
    "mostcorr_df = dataF[most_corr.index]\n",
    "\n",
    "# kurtosis and skew for stocks that went through two least correlation filters\n",
    "kurtosis_df = pd.DataFrame(kurtosis(mostcorr_df), columns=['kurtosis'], index=mostcorr_df.columns)\n",
    "skew_df = pd.DataFrame(skew(mostcorr_df), columns=['skew'], index=mostcorr_df.columns)\n",
    "\n",
    "# least correlated stocks volatility correlation with SP500\n",
    "volatility_corr = lc_volatility.corr()['SP500']\n",
    "\n",
    "# most correlated volatility\n",
    "# volatility_corr.where((volatility_corr > -0.4) & (volatility_corr < 0.4)).dropna()"
   ]
  },
  {
   "cell_type": "code",
   "execution_count": 8,
   "metadata": {},
   "outputs": [],
   "source": [
    "def covariance_matrix(data):\n",
    "    \n",
    "    def covariance(x, y):\n",
    "        T = len(x)\n",
    "        d = 1.005\n",
    "        cumsum = 0\n",
    "        for day in x.index.values:\n",
    "            cumsum += d ** day *(x.iloc[day] - x.mean()) * (y.iloc[day] - y.mean())\n",
    "        return cumsum * (2 - d) / T\n",
    "    \n",
    "    matrix = pd.DataFrame(np.arange(len(data.columns)**2).reshape(len(data.columns), len(data.columns)), \n",
    "                          columns=data.columns.values, index=data.columns.values, dtype=float)\n",
    "    \n",
    "    for i in matrix:\n",
    "        for j in matrix:\n",
    "            matrix[i][j] = covariance(data[i], data[j])\n",
    "    return matrix\n"
   ]
  },
  {
   "cell_type": "code",
   "execution_count": 9,
   "metadata": {},
   "outputs": [],
   "source": [
    "def generate_U_matrix(data):\n",
    "    matrix = np.zeros((len(data.columns), len(data.columns)))\n",
    "    for i, stock_i in enumerate(data.columns):\n",
    "        for j, stock_j in enumerate(data.columns):\n",
    "            matrix[i][j] = 0.25 * ((data[stock_i] + data[stock_j]).var() -  (data[stock_i] - data[stock_j]).var())\n",
    "    return matrix"
   ]
  },
  {
   "cell_type": "code",
   "execution_count": 10,
   "metadata": {
    "scrolled": true
   },
   "outputs": [
    {
     "name": "stderr",
     "output_type": "stream",
     "text": [
      "<ipython-input-10-56eb3ac4322f>:39: RuntimeWarning: divide by zero encountered in reciprocal\n",
      "  inv_omega_matrix = omega_matrix ** -1\n"
     ]
    }
   ],
   "source": [
    "cov_matrix = covariance_matrix(dataF[most_corr.index])\n",
    "diag_values = np.diag(cov_matrix)\n",
    "\n",
    "# cov diagonal\n",
    "zeros = np.zeros_like(cov_matrix)\n",
    "np.fill_diagonal(zeros, diag_values)\n",
    "cov_diag = pd.DataFrame(zeros, columns=most_corr.index, index=most_corr.index)\n",
    "\n",
    "# cov ** -1 diagonal\n",
    "zeros = np.zeros_like(cov_matrix)\n",
    "np.fill_diagonal(zeros, np.diag((cov_diag ** -1)))\n",
    "cov_inv_diag = pd.DataFrame(zeros, columns=most_corr.index, index=most_corr.index)\n",
    "\n",
    "# x over t\n",
    "x_over_t = dataF[most_corr.index] * cov_inv_diag.sum()\n",
    "U_matrix_values = generate_U_matrix(x_over_t)\n",
    "U_matrix = pd.DataFrame(U_matrix_values, index=x_over_t.columns, columns=x_over_t.columns)\n",
    "np.fill_diagonal(U_matrix.values, np.ones(most_corr.index.size))\n",
    "U_matrix_eigen = np.linalg.eig(U_matrix)\n",
    "\n",
    "# z over t\n",
    "z_over_t = np.matmul(U_matrix_eigen[1].T, x_over_t.T)\n",
    "z_over_t_var = z_over_t.T.var()\n",
    "zeros = np.zeros_like(cov_matrix)\n",
    "np.fill_diagonal(zeros, z_over_t_var)\n",
    "gamma_matrix = pd.DataFrame(zeros, columns=most_corr.index, index=most_corr.index)\n",
    "\n",
    "# AE\n",
    "AE = np.matmul(cov_diag, U_matrix_eigen[1])\n",
    "robust_cov_matrix = np.matmul(np.matmul(AE, gamma_matrix), AE.T)\n",
    "\n",
    "# Black Literman - UNFINISHED\n",
    "q_matrix = np.array([[0.0015], [0.004]])\n",
    "p_matrix = np.zeros((2, most_corr.index.size))\n",
    "p_matrix[0][0] = 1.0\n",
    "p_matrix[1][1] = -1.0\n",
    "p_matrix[1][2] = 1.0\n",
    "omega_matrix = np.array([[0.0004, 0], [0, 0.0016]])\n",
    "inv_omega_matrix = omega_matrix ** -1\n",
    "inv_omega_matrix[0][1], inv_omega_matrix[1, 0] = (0, 0)\n",
    "t = 0.15\n",
    "means_matrix = np.array(mostcorr_df.mean().values).reshape(most_corr.index.size, 1)\n",
    "blackLitterman_mean1 = ((t * robust_cov_matrix) ** -1 + np.matmul(np.matmul(p_matrix.T, inv_omega_matrix), p_matrix)) ** -1\n",
    "blackLitterman_mean2 = np.matmul((t * robust_cov_matrix).values ** -1, means_matrix) + np.matmul(np.matmul(p_matrix.T, inv_omega_matrix), q_matrix)\n",
    "blackLitterman_mean = np.matmul(blackLitterman_mean1.values, blackLitterman_mean2)"
   ]
  },
  {
   "cell_type": "code",
   "execution_count": 11,
   "metadata": {},
   "outputs": [
    {
     "name": "stdout",
     "output_type": "stream",
     "text": [
      "The answer is at (0.13534257918068934, 0.06672632058638708, 0.12368638815970663, 0.3093077568358499, 0.21903735129150956, 0.14589960394585746)\n"
     ]
    },
    {
     "name": "stderr",
     "output_type": "stream",
     "text": [
      "<ipython-input-11-de76a8a3749b>:10: FutureWarning: Support for multi-dimensional indexing (e.g. `obj[:, None]`) is deprecated and will be removed in a future version.  Convert to a numpy array before indexing instead.\n",
      "  w1, w2, w3, w4, w5, w6 = ((cov_matrix * pd.Series(X)[:, np.newaxis]).sum() * X).values\n"
     ]
    }
   ],
   "source": [
    "# Calculating the minimum variance portfolio\n",
    "\n",
    "# The template for those function was taken from:\n",
    "# https://kitchingroup.cheme.cmu.edu/blog/2018/11/03/Constrained-optimization-with-Lagrange-multipliers-and-autograd/\n",
    "\n",
    "import autograd.numpy as np\n",
    "from autograd import grad\n",
    "\n",
    "def objective(X):\n",
    "    w1, w2, w3, w4, w5, w6 = ((cov_matrix * pd.Series(X)[:, np.newaxis]).sum() * X).values\n",
    "    return w1 + w2 + w3 + w4 + w5 + w6\n",
    "\n",
    "def eq(X):\n",
    "    w1, w2, w3, w4, w5, w6 = X\n",
    "    return w1 + w2 + w3 + w4 + w5 + w6 - 1\n",
    "\n",
    "def F(L):\n",
    "    'Augmented Lagrange function'\n",
    "    w1, w2, w3, w4, w5, w6, _lambda = L\n",
    "    return objective([w1, w2, w3, w4, w5, w6]) - _lambda * eq([w1, w2, w3, w4, w5, w6])\n",
    "\n",
    "# Gradients of the Lagrange function\n",
    "dfdL = grad(F, 0)\n",
    "\n",
    "# Find L that returns all zeros in this function.\n",
    "def obj(L):\n",
    "    w1, w2, w3, w4, w5, w6, _lambda = L\n",
    "    dFdw1, dFdw2, dFdw3, dFdw4, dFdw5, dFdw6, dFdlam = dfdL(L)\n",
    "    return [dFdw1, dFdw2, dFdw3, dFdw4, dFdw5, dFdw6, eq([w1, w2, w3, w4, w5, w6])]\n",
    "\n",
    "from scipy.optimize import fsolve\n",
    "\n",
    "w1, w2, w3, w4, w5, w6, _lam = fsolve(obj, [0.0, 0.0, 0.0, 0.0, 0.0, 0.0, 1.0])\n",
    "print(f'The answer is at {w1, w2, w3, w4, w5, w6}')\n",
    "\n",
    "weights = pd.Series([w1, w2, w3, w4, w5, w6])"
   ]
  },
  {
   "cell_type": "code",
   "execution_count": 59,
   "metadata": {},
   "outputs": [
    {
     "name": "stdout",
     "output_type": "stream",
     "text": [
      "Collecting cvxopt\n",
      "  Downloading cvxopt-1.2.5.post1-cp38-cp38-win_amd64.whl (9.5 MB)\n",
      "Installing collected packages: cvxopt\n",
      "Successfully installed cvxopt-1.2.5.post1\n",
      "Note: you may need to restart the kernel to use updated packages.\n"
     ]
    }
   ],
   "source": [
    "pip install cvxopt"
   ]
  },
  {
   "cell_type": "code",
   "execution_count": 63,
   "metadata": {},
   "outputs": [
    {
     "data": {
      "text/plain": [
       "CAG    -0.000391\n",
       "ENPH    0.015736\n",
       "IFF    -0.004795\n",
       "LW      0.002112\n",
       "MKTX    0.001509\n",
       "MHK    -0.005678\n",
       "dtype: float64"
      ]
     },
     "execution_count": 63,
     "metadata": {},
     "output_type": "execute_result"
    }
   ],
   "source": [
    "mostcorr_df.mean()"
   ]
  },
  {
   "cell_type": "code",
   "execution_count": 95,
   "metadata": {},
   "outputs": [],
   "source": [
    "from cvxopt import matrix\n",
    "\n",
    "P = matrix(cov_matrix.values * (-1), tc='d')\n",
    "\n",
    "q = matrix(mostcorr_df.mean().values, tc='d')\n",
    "\n",
    "G_matrix = np.zeros((6, 6))\n",
    "np.fill_diagonal(G_matrix, np.ones(6) * (-1))\n",
    "G = matrix(G_matrix, tc='d')\n",
    "\n",
    "h = matrix(np.zeros((6, 1)), tc='d')\n",
    "\n",
    "A = matrix(np.ones((1, 6)), tc='d')\n",
    "\n",
    "b = matrix(np.ones((1, 1)), tc='d')"
   ]
  },
  {
   "cell_type": "code",
   "execution_count": 108,
   "metadata": {
    "scrolled": false
   },
   "outputs": [
    {
     "name": "stdout",
     "output_type": "stream",
     "text": [
      "     pcost       dcost       gap    pres   dres\n",
      " 0:  1.0324e-03 -1.0058e+00  1e+00  4e-16  3e+00\n",
      " 1:  9.4288e-04 -1.5762e-02  2e-02  1e-16  5e-02\n",
      " 2: -2.0413e-03 -6.0142e-03  4e-03  1e-16  1e-02\n",
      "Terminated (singular KKT matrix).\n"
     ]
    }
   ],
   "source": [
    "from cvxopt import solvers\n",
    "sol = solvers.qp(P, q, G, h, A, b)\n",
    "solutions = np.array([solution for solution in sol['x']])"
   ]
  },
  {
   "cell_type": "code",
   "execution_count": 120,
   "metadata": {
    "scrolled": false
   },
   "outputs": [
    {
     "name": "stderr",
     "output_type": "stream",
     "text": [
      "C:\\Users\\Win10\\anaconda3\\lib\\site-packages\\statsmodels\\tsa\\arima_model.py:472: FutureWarning: \n",
      "statsmodels.tsa.arima_model.ARMA and statsmodels.tsa.arima_model.ARIMA have\n",
      "been deprecated in favor of statsmodels.tsa.arima.model.ARIMA (note the .\n",
      "between arima and model) and\n",
      "statsmodels.tsa.SARIMAX. These will be removed after the 0.12 release.\n",
      "\n",
      "statsmodels.tsa.arima.model.ARIMA makes use of the statespace framework and\n",
      "is both well tested and maintained.\n",
      "\n",
      "To silence this warning and continue using ARMA and ARIMA until they are\n",
      "removed, use:\n",
      "\n",
      "import warnings\n",
      "warnings.filterwarnings('ignore', 'statsmodels.tsa.arima_model.ARMA',\n",
      "                        FutureWarning)\n",
      "warnings.filterwarnings('ignore', 'statsmodels.tsa.arima_model.ARIMA',\n",
      "                        FutureWarning)\n",
      "\n",
      "  warnings.warn(ARIMA_DEPRECATION_WARN, FutureWarning)\n"
     ]
    }
   ],
   "source": [
    "model = ARIMA(mostcorr_df['CAG'][:35], order=(1,0,1))\n",
    "model_fit = model.fit(disp=0)\n",
    "\n",
    "volatility = []\n",
    "for i in range(35):  \n",
    "    volatility.append((mostcorr_df['CAG'][:35 + i].std() * (1 + (model_fit.maparams ** 2) + 2 * \n",
    "                                              model_fit.maparams * model_fit.arparams)) / (1 - (model_fit.arparams ** 2)))\n",
    "model_summary = model_fit.summary()"
   ]
  },
  {
   "cell_type": "code",
   "execution_count": 54,
   "metadata": {
    "scrolled": true
   },
   "outputs": [],
   "source": [
    "# CAG stock model\n",
    "one_stock = np.log(web.DataReader(\"CAG\", 'yahoo', start, end))\n",
    "\n",
    "variance_0 = (one_stock.Close - one_stock.Close.shift(1)) ** 2\n",
    "f = 0.645\n",
    "variance_1 = ((one_stock.Open - one_stock.Close.shift(1)) ** 2) / f\n",
    "variance_2 = ((one_stock.Close - one_stock.Open) ** 2) / (1 - f)\n",
    "variance_3 = ((one_stock.High - one_stock.Low) ** 2) / (4 * np.log(2))\n",
    "a = 0.17\n",
    "variance_4 = a * variance_1 + (1 - a) * variance_3\n",
    "variance_star = 0.5 * variance_1 + 0.5 * variance_2\n",
    "\n",
    "up = (one_stock.High - one_stock.Open)\n",
    "down = (one_stock.Low - one_stock.Open)\n",
    "constant = (one_stock.Close - one_stock.Open)\n",
    "\n",
    "double_star = 0.511 * ((up - down) ** 2) - 0.019 * (constant * (up + down) - 2 * up * down) - 0.383 * (constant ** 2)\n",
    "\n",
    "variance_gk = a * variance_1 + (1 - a) * (double_star / (1 - f))"
   ]
  },
  {
   "cell_type": "code",
   "execution_count": 50,
   "metadata": {},
   "outputs": [
    {
     "data": {
      "text/plain": [
       "<matplotlib.legend.Legend at 0x1810517e6a0>"
      ]
     },
     "execution_count": 50,
     "metadata": {},
     "output_type": "execute_result"
    },
    {
     "data": {
      "image/png": "[encoded data removed]",
      "text/plain": [
       "<Figure size 432x288 with 1 Axes>"
      ]
     },
     "metadata": {},
     "output_type": "display_data"
    }
   ],
   "source": [
    "#plt.plot(variance_0, label=\"variance_0\")\n",
    "#plt.plot(variance_1, label=\"variance_1\")\n",
    "plt.plot(np.sqrt(variance_2), label=\"variance_2\")\n",
    "#plt.plot(variance_3, label=\"variance_3\")\n",
    "#plt.plot(variance_4, label=\"variance_4\")\n",
    "#plt.plot(variance_star, label=\"variance_star\")\n",
    "plt.plot(np.sqrt(double_star), label=\"double_star\")\n",
    "plt.plot(np.sqrt(variance_gk), label=\"variance_gk\")\n",
    "\n",
    "plt.legend()"
   ]
  },
  {
   "cell_type": "code",
   "execution_count": 56,
   "metadata": {
    "scrolled": true
   },
   "outputs": [
    {
     "data": {
      "text/html": [
       "<table class=\"simpletable\">\n",
       "<caption>ARMA Model Results</caption>\n",
       "<tr>\n",
       "  <th>Dep. Variable:</th>        <td>CAG</td>       <th>  No. Observations:  </th>    <td>35</td>   \n",
       "</tr>\n",
       "<tr>\n",
       "  <th>Model:</th>            <td>ARMA(1, 1)</td>    <th>  Log Likelihood     </th>  <td>75.949</td> \n",
       "</tr>\n",
       "<tr>\n",
       "  <th>Method:</th>             <td>css-mle</td>     <th>  S.D. of innovations</th>   <td>0.028</td> \n",
       "</tr>\n",
       "<tr>\n",
       "  <th>Date:</th>          <td>Sun, 07 Feb 2021</td> <th>  AIC                </th> <td>-143.899</td>\n",
       "</tr>\n",
       "<tr>\n",
       "  <th>Time:</th>              <td>18:23:49</td>     <th>  BIC                </th> <td>-137.677</td>\n",
       "</tr>\n",
       "<tr>\n",
       "  <th>Sample:</th>                <td>0</td>        <th>  HQIC               </th> <td>-141.751</td>\n",
       "</tr>\n",
       "<tr>\n",
       "  <th></th>                       <td> </td>        <th>                     </th>     <td> </td>   \n",
       "</tr>\n",
       "</table>\n",
       "<table class=\"simpletable\">\n",
       "<tr>\n",
       "      <td></td>         <th>coef</th>     <th>std err</th>      <th>z</th>      <th>P>|z|</th>  <th>[0.025</th>    <th>0.975]</th>  \n",
       "</tr>\n",
       "<tr>\n",
       "  <th>const</th>     <td>   -0.0004</td> <td>    0.002</td> <td>   -0.150</td> <td> 0.881</td> <td>   -0.005</td> <td>    0.004</td>\n",
       "</tr>\n",
       "<tr>\n",
       "  <th>ar.L1.CAG</th> <td>    0.3439</td> <td>    0.402</td> <td>    0.855</td> <td> 0.393</td> <td>   -0.444</td> <td>    1.132</td>\n",
       "</tr>\n",
       "<tr>\n",
       "  <th>ma.L1.CAG</th> <td>   -0.6751</td> <td>    0.326</td> <td>   -2.072</td> <td> 0.038</td> <td>   -1.314</td> <td>   -0.036</td>\n",
       "</tr>\n",
       "</table>\n",
       "<table class=\"simpletable\">\n",
       "<caption>Roots</caption>\n",
       "<tr>\n",
       "    <td></td>   <th>            Real</th>  <th>         Imaginary</th> <th>         Modulus</th>  <th>        Frequency</th>\n",
       "</tr>\n",
       "<tr>\n",
       "  <th>AR.1</th> <td>           2.9080</td> <td>          +0.0000j</td> <td>           2.9080</td> <td>           0.0000</td>\n",
       "</tr>\n",
       "<tr>\n",
       "  <th>MA.1</th> <td>           1.4813</td> <td>          +0.0000j</td> <td>           1.4813</td> <td>           0.0000</td>\n",
       "</tr>\n",
       "</table>"
      ],
      "text/plain": [
       "<class 'statsmodels.iolib.summary.Summary'>\n",
       "\"\"\"\n",
       "                              ARMA Model Results                              \n",
       "==============================================================================\n",
       "Dep. Variable:                    CAG   No. Observations:                   35\n",
       "Model:                     ARMA(1, 1)   Log Likelihood                  75.949\n",
       "Method:                       css-mle   S.D. of innovations              0.028\n",
       "Date:                Sun, 07 Feb 2021   AIC                           -143.899\n",
       "Time:                        18:23:49   BIC                           -137.677\n",
       "Sample:                             0   HQIC                          -141.751\n",
       "                                                                              \n",
       "==============================================================================\n",
       "                 coef    std err          z      P>|z|      [0.025      0.975]\n",
       "------------------------------------------------------------------------------\n",
       "const         -0.0004      0.002     -0.150      0.881      -0.005       0.004\n",
       "ar.L1.CAG      0.3439      0.402      0.855      0.393      -0.444       1.132\n",
       "ma.L1.CAG     -0.6751      0.326     -2.072      0.038      -1.314      -0.036\n",
       "                                    Roots                                    \n",
       "=============================================================================\n",
       "                  Real          Imaginary           Modulus         Frequency\n",
       "-----------------------------------------------------------------------------\n",
       "AR.1            2.9080           +0.0000j            2.9080            0.0000\n",
       "MA.1            1.4813           +0.0000j            1.4813            0.0000\n",
       "-----------------------------------------------------------------------------\n",
       "\"\"\""
      ]
     },
     "execution_count": 56,
     "metadata": {},
     "output_type": "execute_result"
    }
   ],
   "source": [
    "model_summary"
   ]
  },
  {
   "cell_type": "code",
   "execution_count": 28,
   "metadata": {},
   "outputs": [],
   "source": [
    "# model using arch\n",
    "arch_model = arch.arch_model(mostcorr_df['CAG'])\n",
    "arch_model.fit()"
   ]
  },
  {
   "cell_type": "code",
   "execution_count": 46,
   "metadata": {},
   "outputs": [
    {
     "data": {
      "text/plain": [
       "-0.00038176085157177314"
      ]
     },
     "execution_count": 46,
     "metadata": {},
     "output_type": "execute_result"
    }
   ],
   "source": [
    "# stocks mean with weights\n",
    "(mostcorr_df.mean().values * weights).sum()"
   ]
  },
  {
   "cell_type": "code",
   "execution_count": 50,
   "metadata": {},
   "outputs": [
    {
     "data": {
      "text/plain": [
       "0.0001616453182055078"
      ]
     },
     "execution_count": 50,
     "metadata": {},
     "output_type": "execute_result"
    }
   ],
   "source": [
    "# stocks volatility with weights\n",
    "(((cov_matrix * pd.Series(weights.values)[:, np.newaxis]).sum() * weights.values).values).sum()"
   ]
  },
  {
   "cell_type": "code",
   "execution_count": 54,
   "metadata": {
    "scrolled": false
   },
   "outputs": [
    {
     "name": "stderr",
     "output_type": "stream",
     "text": [
      "<ipython-input-54-5e529719aea3>:2: FutureWarning: Support for multi-dimensional indexing (e.g. `obj[:, None]`) is deprecated and will be removed in a future version.  Convert to a numpy array before indexing instead.\n",
      "  np.sqrt((((cov_matrix * pd.Series(weights.values)[:, np.newaxis]).sum() * weights.values).values).sum()))\n"
     ]
    },
    {
     "data": {
      "text/plain": [
       "<matplotlib.collections.PathCollection at 0x242372d2340>"
      ]
     },
     "execution_count": 54,
     "metadata": {},
     "output_type": "execute_result"
    },
    {
     "data": {
      "image/png": "[encoded data removed]",
      "text/plain": [
       "<Figure size 432x288 with 1 Axes>"
      ]
     },
     "metadata": {},
     "output_type": "display_data"
    }
   ],
   "source": [
    "# Plotting stocks' and portfolio standard deviation on returns axis\n",
    "plt.scatter((mostcorr_df.mean().values * weights).sum(), \n",
    "            np.sqrt((((cov_matrix * pd.Series(weights.values)[:, np.newaxis]).sum() * weights.values).values).sum()))\n",
    "plt.scatter(mostcorr_df.mean().values, mostcorr_df.std().values)"
   ]
  },
  {
   "cell_type": "code",
   "execution_count": 118,
   "metadata": {},
   "outputs": [
    {
     "name": "stderr",
     "output_type": "stream",
     "text": [
      "<ipython-input-118-460a521d24b8>:2: FutureWarning: Support for multi-dimensional indexing (e.g. `obj[:, None]`) is deprecated and will be removed in a future version.  Convert to a numpy array before indexing instead.\n",
      "  np.sqrt((((cov_matrix * pd.Series(solutions)[:, np.newaxis]).sum() * solutions)).sum()))\n"
     ]
    },
    {
     "data": {
      "text/plain": [
       "<matplotlib.collections.PathCollection at 0x181069acaf0>"
      ]
     },
     "execution_count": 118,
     "metadata": {},
     "output_type": "execute_result"
    },
    {
     "data": {
      "image/png": "[encoded data removed]",
      "text/plain": [
       "<Figure size 432x288 with 1 Axes>"
      ]
     },
     "metadata": {},
     "output_type": "display_data"
    }
   ],
   "source": [
    "plt.scatter((mostcorr_df.mean().values * solutions).sum(), \n",
    "            np.sqrt((((cov_matrix * pd.Series(solutions)[:, np.newaxis]).sum() * solutions)).sum()))\n",
    "plt.scatter(mostcorr_df.mean().values, mostcorr_df.std().values)"
   ]
  }
 ],
 "metadata": {
  "kernelspec": {
   "display_name": "Python 3",
   "language": "python",
   "name": "python3"
  },
  "language_info": {
   "codemirror_mode": {
    "name": "ipython",
    "version": 3
   },
   "file_extension": ".py",
   "mimetype": "text/x-python",
   "name": "python",
   "nbconvert_exporter": "python",
   "pygments_lexer": "ipython3",
   "version": "3.8.5"
  }
 },
 "nbformat": 4,
 "nbformat_minor": 2
}
